{
 "cells": [
  {
   "cell_type": "markdown",
   "metadata": {},
   "source": [
    "1. What is Logistic Regression, and how does it differ from Linear Regression?\n",
    "\n",
    "Ans>>\n",
    "Logistic Regression is a classification algorithm used to predict binary or categorical outcomes. It differs from Linear Regression in that it uses the sigmoid function to squash predictions into a range between 0 and 1, making it suitable for probability estimation."
   ]
  },
  {
   "cell_type": "markdown",
   "metadata": {},
   "source": [
    "2. What is the mathematical equation of Logistic Regression?\n",
    "\n",
    "Ans>>\n",
    "The equation for Logistic Regression is:\n",
    "\n",
    "P(Y=1∣X) = 1 / (1 + e^(-(b0 + b1x)))*\n",
    "\n",
    "Where P(Y=1∣X)  represents the probability of the positive class"
   ]
  },
  {
   "cell_type": "markdown",
   "metadata": {},
   "source": [
    "3. Why do we use the Sigmoid function in Logistic Regression?\n",
    "\n",
    "Ans>>\n",
    "The sigmoid function maps any real-valued number into a range between 0 and 1, which helps in probability estimation. It also ensures that the output remains within valid probability limits."
   ]
  },
  {
   "attachments": {
    "image.png": {
     "image/png": "[encoded data removed]"
    }
   },
   "cell_type": "markdown",
   "metadata": {},
   "source": [
    "4. What is the cost function of Logistic Regression?\n",
    "\n",
    "Ans>>\n",
    "Logistic Regression uses the log loss (binary cross-entropy) function:\n",
    "\n",
    "![image.png](attachment:image.png)\n",
    "\n",
    "This function penalizes incorrect predictions more when they are confident but wrong."
   ]
  },
  {
   "cell_type": "markdown",
   "metadata": {},
   "source": [
    "5. What is Regularization in Logistic Regression? Why is it needed?\n",
    "\n",
    "Ans>>\n",
    "Regularization prevents overfitting by adding a penalty to the loss function. The two common types are L1 (Lasso) and L2 (Ridge) regularization. It helps improve the generalization of the model."
   ]
  },
  {
   "cell_type": "markdown",
   "metadata": {},
   "source": [
    "6. Explain the difference between Lasso, Ridge, and Elastic Net regression.\n",
    "\n",
    "Ans>>\n",
    "\n",
    "->Lasso (L1): Shrinks some coefficients to zero, leading to feature selection.\n",
    "\n",
    "->Ridge (L2): Reduces the magnitude of all coefficients but does not set them to zero.\n",
    "\n",
    "->Elastic Net: A combination of Lasso and Ridge, balancing both effects."
   ]
  },
  {
   "cell_type": "markdown",
   "metadata": {},
   "source": [
    "7. When should we use Elastic Net instead of Lasso or Ridge?\n",
    "\n",
    "Ans>>\n",
    "Elastic Net is useful when dealing with high-dimensional data with correlated features. It combines the benefits of Lasso (feature selection) and Ridge (stability)."
   ]
  },
  {
   "cell_type": "markdown",
   "metadata": {},
   "source": [
    "8. What is the impact of the regularization parameter (λ) in Logistic Regression?\n",
    "\n",
    "Ans>>\n",
    "\n",
    "->A higher λ increases regularization, reducing overfitting but may lead to underfitting.\n",
    "\n",
    "->A lower λ reduces regularization, leading to better training accuracy but increasing overfitting risk."
   ]
  },
  {
   "cell_type": "markdown",
   "metadata": {},
   "source": [
    "9. What are the key assumptions of Logistic Regression?\n",
    "\n",
    "Ans>>\n",
    "\n",
    "The dependent variable is binary or categorical.\n",
    "\n",
    "There is a linear relationship between the independent variables and the log-odds.\n",
    "\n",
    "The observations are independent.\n",
    "\n",
    "There is no severe multicollinearity among independent variables."
   ]
  },
  {
   "cell_type": "markdown",
   "metadata": {},
   "source": [
    "10. What are some alternatives to Logistic Regression for classification tasks?\n",
    "\n",
    "Ans>>\n",
    "\n",
    "Support Vector Machines (SVM)\n",
    "\n",
    "Decision Trees & Random Forests\n",
    "\n",
    "Neural Networks\n",
    "\n",
    "Naïve Bayes\n",
    "\n",
    "K-Nearest Neighbors (KNN)"
   ]
  },
  {
   "cell_type": "markdown",
   "metadata": {},
   "source": [
    "11. What are Classification Evaluation Metrics?\n",
    "\n",
    "Ans>>\n",
    "Accuracy\n",
    "\n",
    "Precision, Recall, and F1-score\n",
    "\n",
    "ROC-AUC Score\n",
    "\n",
    "Confusion Matrix"
   ]
  },
  {
   "cell_type": "markdown",
   "metadata": {},
   "source": [
    "12. How does class imbalance affect Logistic Regression?\n",
    "\n",
    "Ans>>\n",
    "\n",
    "Class imbalance can bias the model towards the majority class, leading to poor predictions for the minority class. Solutions include resampling techniques, class weighting, or using different evaluation metrics like F1-score."
   ]
  },
  {
   "cell_type": "markdown",
   "metadata": {},
   "source": [
    "13. What is Hyperparameter Tuning in Logistic Regression?\n",
    "\n",
    "Ans>>\n",
    "Hyperparameter tuning involves adjusting parameters like regularization strength (λ), solver type, and learning rate to optimize model performance."
   ]
  },
  {
   "cell_type": "markdown",
   "metadata": {},
   "source": [
    "14. What are different solvers in Logistic Regression? Which one should be used?\n",
    "Common solvers:\n",
    "\n",
    "Ans>>\n",
    "\n",
    "lbfgs (default, works well for small/medium datasets)\n",
    "\n",
    "saga (best for large datasets with L1/L2 regularization)\n",
    "\n",
    "liblinear (works well for small datasets and L1 regularization)"
   ]
  },
  {
   "cell_type": "markdown",
   "metadata": {},
   "source": [
    "15. How is Logistic Regression extended for multiclass classification?\n",
    "Using strategies like:\n",
    "\n",
    "Ans>>\n",
    "\n",
    "One-vs-Rest (OvR): Trains one classifier per class.\n",
    "\n",
    "Softmax Regression: Assigns probabilities to multiple classes simultaneously."
   ]
  },
  {
   "cell_type": "markdown",
   "metadata": {},
   "source": [
    "16. What are the advantages and disadvantages of Logistic Regression?\n",
    "\n",
    "\n",
    "Ans>>\n",
    "\n",
    "Advantages:\n",
    "\n",
    "Simple and easy to interpret\n",
    "\n",
    "Efficient for binary classification\n",
    "\n",
    "Works well with small datasets\n",
    "\n",
    "Disadvantages:\n",
    "\n",
    "Struggles with nonlinear relationships\n",
    "\n",
    "Requires feature engineering\n",
    "\n",
    "Sensitive to outliers"
   ]
  },
  {
   "cell_type": "markdown",
   "metadata": {},
   "source": [
    "17. What are some use cases of Logistic Regression?\n",
    "\n",
    "Ans>>\n",
    "\n",
    "Spam detection\n",
    "\n",
    "Medical diagnosis (disease prediction)\n",
    "\n",
    "Credit scoring\n",
    "\n",
    "Customer churn prediction"
   ]
  },
  {
   "cell_type": "markdown",
   "metadata": {},
   "source": [
    "18. What is the difference between Softmax Regression and Logistic Regression?\n",
    "\n",
    "Ans>>\n",
    "\n",
    "Logistic Regression is used for binary classification.\n",
    "\n",
    "Softmax Regression is an extension that handles multiclass classification by assigning probabilities to multiple classes."
   ]
  },
  {
   "cell_type": "markdown",
   "metadata": {},
   "source": [
    "19. How do we choose between One-vs-Rest (OvR) and Softmax for multiclass classification?\n",
    "\n",
    "Ans>>\n",
    "\n",
    "OvR: Better for smaller datasets and computationally cheaper.\n",
    "\n",
    "Softmax: More efficient when all classes are needed simultaneously."
   ]
  },
  {
   "cell_type": "markdown",
   "metadata": {},
   "source": [
    "20. How do we interpret coefficients in Logistic Regression?\n",
    "\n",
    "Ans>>\n",
    "\n",
    "Coefficients represent the log-odds of the target variable. A positive coefficient increases the probability of the positive class, while a negative coefficient decreases it."
   ]
  },
  {
   "cell_type": "markdown",
   "metadata": {},
   "source": []
  }
 ],
 "metadata": {
  "kernelspec": {
   "display_name": "base",
   "language": "python",
   "name": "python3"
  },
  "language_info": {
   "name": "python",
   "version": "3.12.4"
  }
 },
 "nbformat": 4,
 "nbformat_minor": 2
}
